{
  "nbformat": 4,
  "nbformat_minor": 0,
  "metadata": {
    "colab": {
      "provenance": [],
      "authorship_tag": "ABX9TyMDS5Lp4YUoa/9VksiTQ5NL",
      "include_colab_link": true
    },
    "kernelspec": {
      "name": "python3",
      "display_name": "Python 3"
    },
    "language_info": {
      "name": "python"
    }
  },
  "cells": [
    {
      "cell_type": "markdown",
      "metadata": {
        "id": "view-in-github",
        "colab_type": "text"
      },
      "source": [
        "<a href=\"https://colab.research.google.com/github/jaicdev/Notebooks/blob/main/Nueral_Network_from_scratch.ipynb\" target=\"_parent\"><img src=\"https://colab.research.google.com/assets/colab-badge.svg\" alt=\"Open In Colab\"/></a>"
      ]
    },
    {
      "cell_type": "markdown",
      "source": [
        "This Jupyter notebook draws inspiration from a tutorial by Samson Zhang on YouTube. You can access the tutorial at the following link: [Samson Zhang's YouTube Tutorial](https://www.youtube.com/watch?v=w8yWXqWQYmU). The dataset MNIST used can be downloaded from [MNIST Dataset](https://www.kaggle.com/competitions/digit-recognizer/data)"
      ],
      "metadata": {
        "id": "Su9u7v5tMvZc"
      }
    },
    {
      "cell_type": "markdown",
      "source": [
        "Import the required libraries\n"
      ],
      "metadata": {
        "id": "zEU3E9kJaClL"
      }
    },
    {
      "cell_type": "code",
      "execution_count": 1,
      "metadata": {
        "id": "TWRK7npjMp2O"
      },
      "outputs": [],
      "source": [
        "import numpy as np\n",
        "import matplotlib.pyplot as plt\n",
        "import pandas as pd"
      ]
    },
    {
      "cell_type": "markdown",
      "source": [
        "This section loads the training and test datasets from CSV files into NumPy arrays.\n",
        "\n"
      ],
      "metadata": {
        "id": "xBjafVw6aDvr"
      }
    },
    {
      "cell_type": "code",
      "source": [
        "data_train = pd.read_csv('/content/train.csv')\n",
        "data_train = np.array(data_train)"
      ],
      "metadata": {
        "id": "hzKnk-I5QlzN"
      },
      "execution_count": 2,
      "outputs": []
    },
    {
      "cell_type": "code",
      "source": [
        "data_test = pd.read_csv('/content/test.csv')\n",
        "data_test = np.array(data_test)"
      ],
      "metadata": {
        "id": "SB6HJcrIVshZ"
      },
      "execution_count": 3,
      "outputs": []
    },
    {
      "cell_type": "markdown",
      "source": [
        "Transpose the datasets to have examples as columns and features as rows. Also, normalize the pixel values of the images to be between 0 and 1.\n",
        "\n"
      ],
      "metadata": {
        "id": "0mVeaRsVaHBr"
      }
    },
    {
      "cell_type": "code",
      "source": [
        "data_train = data_train.T\n",
        "Y_train, X_train = data_train[0], data_train[1:] / 255.\n",
        "_, m_train = X_train.shape"
      ],
      "metadata": {
        "id": "-FtAYmrSRPR7"
      },
      "execution_count": 4,
      "outputs": []
    },
    {
      "cell_type": "code",
      "source": [
        "data_test = data_test.T\n",
        "Y_test, X_test = data_test[0], data_test[1:] / 255.\n",
        "_, m_test = X_test.shape"
      ],
      "metadata": {
        "id": "fIFsuc0iV8dK"
      },
      "execution_count": 5,
      "outputs": []
    },
    {
      "cell_type": "markdown",
      "source": [
        "This function initializes the parameters (weights and biases) for the neural network."
      ],
      "metadata": {
        "id": "u3nvjF5faNXk"
      }
    },
    {
      "cell_type": "code",
      "source": [
        "# Initialize parameters for the neural network\n",
        "def init_params():\n",
        "    W1 = np.random.randn(10, 784) * 0.01\n",
        "    b1 = np.zeros((10, 1))\n",
        "    W2 = np.random.randn(10, 10) * 0.01\n",
        "    b2 = np.zeros((10, 1))\n",
        "    return W1, b1, W2, b2"
      ],
      "metadata": {
        "id": "KfW20rM9WLnH"
      },
      "execution_count": 6,
      "outputs": []
    },
    {
      "cell_type": "markdown",
      "source": [
        "These functions define the ReLU activation function and the softmax activation function used in the neural network."
      ],
      "metadata": {
        "id": "yKzuDCYWbYEr"
      }
    },
    {
      "cell_type": "code",
      "source": [
        "# ReLU activation function\n",
        "def ReLU(Z):\n",
        "    return np.maximum(Z, 0)\n",
        "\n",
        "# Softmax activation function\n",
        "def softmax(Z):\n",
        "    A = np.exp(Z) / np.sum(np.exp(Z), axis=0)\n",
        "    return A"
      ],
      "metadata": {
        "id": "f58Lmsx0a-ks"
      },
      "execution_count": 7,
      "outputs": []
    },
    {
      "cell_type": "markdown",
      "source": [
        "This function performs forward propagation through the neural network, calculating the activations at each layer."
      ],
      "metadata": {
        "id": "UuwsVVOlbbds"
      }
    },
    {
      "cell_type": "code",
      "source": [
        "# Forward propagation through the neural network\n",
        "def forward_prop(W1, b1, W2, b2, X):\n",
        "    Z1 = W1.dot(X) + b1\n",
        "    A1 = ReLU(Z1)\n",
        "    Z2 = W2.dot(A1) + b2\n",
        "    A2 = softmax(Z2)\n",
        "    return Z1, A1, Z2, A2"
      ],
      "metadata": {
        "id": "KgdUDfqCbGtX"
      },
      "execution_count": 8,
      "outputs": []
    },
    {
      "cell_type": "code",
      "source": [
        "# Derivative of ReLU activation function\n",
        "def ReLU_deriv(Z):\n",
        "    return Z > 0"
      ],
      "metadata": {
        "id": "255UylQmbJc5"
      },
      "execution_count": 9,
      "outputs": []
    },
    {
      "cell_type": "code",
      "source": [
        "# One-hot encoding of labels\n",
        "def one_hot(Y):\n",
        "    one_hot_Y = np.zeros((Y.size, Y.max() + 1))\n",
        "    one_hot_Y[np.arange(Y.size), Y] = 1\n",
        "    one_hot_Y = one_hot_Y.T\n",
        "    return one_hot_Y"
      ],
      "metadata": {
        "id": "0UAcKMkBbLtl"
      },
      "execution_count": 10,
      "outputs": []
    },
    {
      "cell_type": "markdown",
      "source": [
        "This function performs backward propagation to calculate the gradients of the parameters with respect to the loss.This function updates the parameters using gradient descent."
      ],
      "metadata": {
        "id": "WM2reJkNbjTh"
      }
    },
    {
      "cell_type": "code",
      "source": [
        "# Backward propagation to update parameters\n",
        "def backward_prop(Z1, A1, Z2, A2, W1, W2, X, Y):\n",
        "    one_hot_Y = one_hot(Y)\n",
        "    dZ2 = A2 - one_hot_Y\n",
        "    dW2 = 1 / m_train * dZ2.dot(A1.T)\n",
        "    db2 = 1 / m_train * np.sum(dZ2)\n",
        "    dZ1 = W2.T.dot(dZ2) * ReLU_deriv(Z1)\n",
        "    dW1 = 1 / m_train * dZ1.dot(X.T)\n",
        "    db1 = 1 / m_train * np.sum(dZ1)\n",
        "    return dW1, db1, dW2, db2"
      ],
      "metadata": {
        "id": "26UwcX43bOgb"
      },
      "execution_count": 11,
      "outputs": []
    },
    {
      "cell_type": "code",
      "source": [
        "# Update parameters using gradient descent\n",
        "def update_params(W1, b1, W2, b2, dW1, db1, dW2, db2, alpha):\n",
        "    W1 -= alpha * dW1\n",
        "    b1 -= alpha * db1\n",
        "    W2 -= alpha * dW2\n",
        "    b2 -= alpha * db2\n",
        "    return W1, b1, W2, b2"
      ],
      "metadata": {
        "id": "PCHfKacSbSFH"
      },
      "execution_count": 12,
      "outputs": []
    },
    {
      "cell_type": "code",
      "source": [
        "# Get predictions from the output layer\n",
        "def get_predictions(A2):\n",
        "    return np.argmax(A2, axis=0)\n",
        "\n",
        "# Calculate accuracy of predictions\n",
        "def get_accuracy(predictions, Y):\n",
        "    return np.sum(predictions == Y) / Y.size\n",
        "\n",
        "# Gradient descent optimization algorithm\n",
        "def gradient_descent(X, Y, alpha, iterations):\n",
        "    W1, b1, W2, b2 = init_params()\n",
        "    for i in range(iterations):\n",
        "        Z1, A1, Z2, A2 = forward_prop(W1, b1, W2, b2, X)\n",
        "        dW1, db1, dW2, db2 = backward_prop(Z1, A1, Z2, A2, W1, W2, X, Y)\n",
        "        W1, b1, W2, b2 = update_params(W1, b1, W2, b2, dW1, db1, dW2, db2, alpha)\n",
        "        if i % 10 == 0:\n",
        "            predictions = get_predictions(A2)\n",
        "            accuracy = get_accuracy(predictions, Y)\n",
        "            print(f\"Iteration: {i}, Accuracy: {accuracy:.4f}\")\n",
        "    return W1, b1, W2, b2"
      ],
      "metadata": {
        "id": "VGwvxrGjWQdc"
      },
      "execution_count": 13,
      "outputs": []
    },
    {
      "cell_type": "code",
      "source": [
        "# Train the neural network\n",
        "W1, b1, W2, b2 = gradient_descent(X_train, Y_train, alpha=0.10, iterations=500)"
      ],
      "metadata": {
        "colab": {
          "base_uri": "https://localhost:8080/"
        },
        "id": "AaRYlZ2_WSB_",
        "outputId": "ce8e1a33-e21d-422f-c857-e1dfbba6a67c"
      },
      "execution_count": 14,
      "outputs": [
        {
          "output_type": "stream",
          "name": "stdout",
          "text": [
            "Iteration: 0, Accuracy: 0.1250\n",
            "Iteration: 10, Accuracy: 0.2132\n",
            "Iteration: 20, Accuracy: 0.2638\n",
            "Iteration: 30, Accuracy: 0.2648\n",
            "Iteration: 40, Accuracy: 0.2677\n",
            "Iteration: 50, Accuracy: 0.3109\n",
            "Iteration: 60, Accuracy: 0.3375\n",
            "Iteration: 70, Accuracy: 0.3559\n",
            "Iteration: 80, Accuracy: 0.3813\n",
            "Iteration: 90, Accuracy: 0.4382\n",
            "Iteration: 100, Accuracy: 0.5075\n",
            "Iteration: 110, Accuracy: 0.5724\n",
            "Iteration: 120, Accuracy: 0.6360\n",
            "Iteration: 130, Accuracy: 0.6825\n",
            "Iteration: 140, Accuracy: 0.7130\n",
            "Iteration: 150, Accuracy: 0.7344\n",
            "Iteration: 160, Accuracy: 0.7516\n",
            "Iteration: 170, Accuracy: 0.7672\n",
            "Iteration: 180, Accuracy: 0.7796\n",
            "Iteration: 190, Accuracy: 0.7910\n",
            "Iteration: 200, Accuracy: 0.8021\n",
            "Iteration: 210, Accuracy: 0.8113\n",
            "Iteration: 220, Accuracy: 0.8199\n",
            "Iteration: 230, Accuracy: 0.8274\n",
            "Iteration: 240, Accuracy: 0.8344\n",
            "Iteration: 250, Accuracy: 0.8403\n",
            "Iteration: 260, Accuracy: 0.8462\n",
            "Iteration: 270, Accuracy: 0.8510\n",
            "Iteration: 280, Accuracy: 0.8551\n",
            "Iteration: 290, Accuracy: 0.8590\n",
            "Iteration: 300, Accuracy: 0.8619\n",
            "Iteration: 310, Accuracy: 0.8648\n",
            "Iteration: 320, Accuracy: 0.8674\n",
            "Iteration: 330, Accuracy: 0.8707\n",
            "Iteration: 340, Accuracy: 0.8732\n",
            "Iteration: 350, Accuracy: 0.8753\n",
            "Iteration: 360, Accuracy: 0.8775\n",
            "Iteration: 370, Accuracy: 0.8798\n",
            "Iteration: 380, Accuracy: 0.8816\n",
            "Iteration: 390, Accuracy: 0.8836\n",
            "Iteration: 400, Accuracy: 0.8848\n",
            "Iteration: 410, Accuracy: 0.8858\n",
            "Iteration: 420, Accuracy: 0.8875\n",
            "Iteration: 430, Accuracy: 0.8889\n",
            "Iteration: 440, Accuracy: 0.8903\n",
            "Iteration: 450, Accuracy: 0.8915\n",
            "Iteration: 460, Accuracy: 0.8929\n",
            "Iteration: 470, Accuracy: 0.8938\n",
            "Iteration: 480, Accuracy: 0.8952\n",
            "Iteration: 490, Accuracy: 0.8961\n"
          ]
        }
      ]
    },
    {
      "cell_type": "code",
      "source": [
        "# Make predictions on a few training examples\n",
        "def test_prediction(index, W1, b1, W2, b2):\n",
        "    current_image = X_train[:, index, None]\n",
        "    prediction = get_predictions(forward_prop(W1, b1, W2, b2, current_image)[-1])\n",
        "    label = Y_train[index]\n",
        "\n",
        "    print(\"Prediction:\", prediction)\n",
        "    print(\"Label:\", label)\n",
        "\n",
        "    current_image = current_image.reshape((28, 28)) * 255\n",
        "    plt.gray()\n",
        "    plt.imshow(current_image, interpolation='nearest')\n",
        "    plt.show()"
      ],
      "metadata": {
        "id": "DW6TMBtJWbSu"
      },
      "execution_count": 15,
      "outputs": []
    },
    {
      "cell_type": "code",
      "source": [
        "# Test predictions on a few training examples\n",
        "test_prediction(0, W1, b1, W2, b2)\n",
        "test_prediction(1, W1, b1, W2, b2)\n",
        "test_prediction(2, W1, b1, W2, b2)\n",
        "test_prediction(3, W1, b1, W2, b2)"
      ],
      "metadata": {
        "colab": {
          "base_uri": "https://localhost:8080/",
          "height": 1000
        },
        "id": "uRTWHJ4ZXQhl",
        "outputId": "9e61c30a-d9fa-480e-fd42-ea2e23493fb3"
      },
      "execution_count": 16,
      "outputs": [
        {
          "output_type": "stream",
          "name": "stdout",
          "text": [
            "Prediction: [1]\n",
            "Label: 1\n"
          ]
        },
        {
          "output_type": "display_data",
          "data": {
            "text/plain": [
              "<Figure size 640x480 with 1 Axes>"
            ],
            "image/png": "[encoded data removed]"
          },
          "metadata": {}
        },
        {
          "output_type": "stream",
          "name": "stdout",
          "text": [
            "Prediction: [0]\n",
            "Label: 0\n"
          ]
        },
        {
          "output_type": "display_data",
          "data": {
            "text/plain": [
              "<Figure size 640x480 with 1 Axes>"
            ],
            "image/png": "[encoded data removed]"
          },
          "metadata": {}
        },
        {
          "output_type": "stream",
          "name": "stdout",
          "text": [
            "Prediction: [1]\n",
            "Label: 1\n"
          ]
        },
        {
          "output_type": "display_data",
          "data": {
            "text/plain": [
              "<Figure size 640x480 with 1 Axes>"
            ],
            "image/png": "[encoded data removed]"
          },
          "metadata": {}
        },
        {
          "output_type": "stream",
          "name": "stdout",
          "text": [
            "Prediction: [2]\n",
            "Label: 4\n"
          ]
        },
        {
          "output_type": "display_data",
          "data": {
            "text/plain": [
              "<Figure size 640x480 with 1 Axes>"
            ],
            "image/png": "[encoded data removed]"
          },
          "metadata": {}
        }
      ]
    }
  ]
}